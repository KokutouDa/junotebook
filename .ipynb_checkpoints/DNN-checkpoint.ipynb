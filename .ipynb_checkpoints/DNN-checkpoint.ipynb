{
 "cells": [
  {
   "cell_type": "code",
   "execution_count": 8,
   "metadata": {},
   "outputs": [],
   "source": [
    "from sklearn.linear_model import LogisticRegression\n",
    "from sklearn.model_selection import train_test_split\n",
    "import numpy as np\n",
    "from scipy.sparse import csr_matrix\n",
    "import jieba\n",
    "import jieba.analyse"
   ]
  },
  {
   "cell_type": "code",
   "execution_count": 2,
   "metadata": {
    "scrolled": true
   },
   "outputs": [],
   "source": [
    "data_in = \"./data/merge_base.data\"\n",
    "output_user_fea = \"./data/user_feature_demo.data\"\n",
    "output_item_fea = './data/item_feature_demo.data'\n",
    "output_itemid_to_name_file = './data/name_id_demo.dict'\n",
    "\n",
    "# 用户id 0，物品id 1，观看时长 2，？3，性别4，年龄段5，工资6，地址7，物品标题 8，总时长9，物品所在10\n",
    "# 初始化数据，区分数据\n",
    "user_fea_list = []\n",
    "item_fea_list = []\n",
    "label_list = []\n",
    "item_name2id = {}\n",
    "item_id2name = {}\n",
    "\n",
    "with open(data_in, mode='r', encoding='UTF-8') as fd:\n",
    "    for line in fd:\n",
    "        data = line.strip().split(\"\\001\")\n",
    "        if (len(data) != 13):\n",
    "            continue\n",
    "        user_id = data[0].strip()\n",
    "        gender = data[4].strip()\n",
    "        age = data[5].strip()\n",
    "        item_id = data[1].strip()\n",
    "        item_title = data[8].strip()\n",
    "        watching_time = float(data[2])\n",
    "        total_time = float(data[10])\n",
    "\n",
    "        item_name2id[item_title] = item_id\n",
    "        item_id2name[item_id] = item_title\n",
    "\n",
    "        user_fea_list.append([user_id, gender, age])\n",
    "        item_fea_list.append([item_id, item_title])\n",
    "\n",
    "        score = watching_time / total_time\n",
    "        label_list.append(score)"
   ]
  },
  {
   "cell_type": "code",
   "execution_count": 4,
   "metadata": {},
   "outputs": [],
   "source": [
    "# 数据转为计算机能够理解的数据\n",
    "# 男、女转为0、1\n",
    "# 年龄段转为 0-18=2 19-25=3 26-35=4 36-45=5 46-100=6\n",
    "b = 2\n",
    "for user in user_fea_list:\n",
    "    # gender\n",
    "    if user[1] == '女':\n",
    "        user[1] = 1\n",
    "    else:\n",
    "        user[1] = 0\n",
    "\n",
    "    # age\n",
    "    if user[2] == '0-18':\n",
    "        user[2] = 0 + b\n",
    "    elif user[2] == '19-25':\n",
    "        user[2] = 1 + b\n",
    "    elif user[2] == '26-34':\n",
    "        user[2] = 2 + b\n",
    "    elif user[2] == '36-45':\n",
    "        user[2] = 3 + b\n",
    "    else:\n",
    "        user[2] = 4 + b\n"
   ]
  },
  {
   "cell_type": "code",
   "execution_count": 39,
   "metadata": {},
   "outputs": [],
   "source": [
    "output_user_fea = \"./data/user_feature.data\"\n",
    "user_fea_list\n",
    "with open (output_user_fea, 'w', encoding='UTF-8') as fd:\n",
    "    weight = '1'\n",
    "    for line in user_fea_list:\n",
    "        user_id = line[0]\n",
    "        gender = str(line[1]) + \":\" + weight\n",
    "        age = str(line[2]) + \":\" + weight\n",
    "        fd.write(\"\\t\".join([user_id, gender + \" \" + age]))\n",
    "        fd.write(\"\\n\")"
   ]
  },
  {
   "cell_type": "code",
   "execution_count": 5,
   "metadata": {},
   "outputs": [],
   "source": [
    "# 输出用户特征\n",
    "with open(output_user_fea, 'w', encoding='UTF-8') as fd:\n",
    "    weight = '1'\n",
    "    for line in user_fea_list:\n",
    "        user_id = line[0]\n",
    "        gender = str(line[1]) + \":\" + weight\n",
    "        age = str(line[2]) + \":\" + weight\n",
    "        fd.write(\"\\t\".join([user_id, gender + \" \" + age]))\n",
    "        fd.write(\"\\n\")"
   ]
  },
  {
   "cell_type": "code",
   "execution_count": 6,
   "metadata": {},
   "outputs": [],
   "source": [
    "# 输出item id 转 item\n",
    "with open(output_itemid_to_name_file, mode='w', encoding='UTF-8') as fd:\n",
    "    for k, v in item_id2name.items():\n",
    "        fd.write(\"\\t\".join([k, v]))\n",
    "        fd.write(\"\\n\")"
   ]
  },
  {
   "cell_type": "code",
   "execution_count": null,
   "metadata": {},
   "outputs": [],
   "source": [
    "# 把词都转为计算机编码 \n",
    "# 方法一：用set集合存储所有词，然后循环1000开始每次+1作为词的编码\n",
    "# 方法二：用dict，key为词，如果key不存在则key的value为1000，每次+1."
   ]
  },
  {
   "cell_type": "code",
   "execution_count": null,
   "metadata": {},
   "outputs": [
    {
     "name": "stderr",
     "output_type": "stream",
     "text": [
      "Building prefix dict from the default dictionary ...\n",
      "Loading model from cache /var/folders/1z/sh527w893x91w_6bdtydgxp80000gn/T/jieba.cache\n",
      "Loading model cost 1.038 seconds.\n",
      "Prefix dict has been built succesfully.\n"
     ]
    }
   ],
   "source": [
    "# 输出item特征\n",
    "token_set = set()\n",
    "word_id_list = []\n",
    "\n",
    "for item in item_fea_list:\n",
    "    item_id = item[0]\n",
    "    item_name = item[1]\n",
    "\n",
    "    # todo 要不要直接优化成item[1]???\n",
    "    # todo 把word_id_list改为 dict key为词，value为id，通过词分配id\n",
    "    word_tfidf = jieba.analyse.extract_tags(item_name, withWeight=True)\n",
    "    for word, tfidf in word_tfidf:\n",
    "        token_set.add(word)\n",
    "\n",
    "    #把词语转为数字：\n",
    "    for i in enumerate(list(token_set), start=0):\n",
    "        word_id_list.append(i)\n",
    "    \n",
    "\n",
    "\n",
    "# 1.不重复的词语集合\n",
    "# 2.遍历集合，从1000开始每个词语+1，作为词的id，保存到本地文件。\n",
    "# 3.把原来的中文词语替换成id"
   ]
  },
  {
   "cell_type": "code",
   "execution_count": null,
   "metadata": {},
   "outputs": [],
   "source": [
    "for word, tfidf in word_tfidf:\n",
    "    word = word_id_dict[word]\n",
    "\n",
    "item[1] = word_tfidf"
   ]
  },
  {
   "cell_type": "code",
   "execution_count": null,
   "metadata": {},
   "outputs": [],
   "source": []
  },
  {
   "cell_type": "code",
   "execution_count": null,
   "metadata": {},
   "outputs": [],
   "source": []
  },
  {
   "cell_type": "code",
   "execution_count": null,
   "metadata": {},
   "outputs": [],
   "source": []
  }
 ],
 "metadata": {
  "kernelspec": {
   "display_name": "Python 3",
   "language": "python",
   "name": "python3"
  },
  "language_info": {
   "codemirror_mode": {
    "name": "ipython",
    "version": 3
   },
   "file_extension": ".py",
   "mimetype": "text/x-python",
   "name": "python",
   "nbconvert_exporter": "python",
   "pygments_lexer": "ipython3",
   "version": "3.7.6"
  }
 },
 "nbformat": 4,
 "nbformat_minor": 4
}
